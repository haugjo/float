{
 "cells": [
  {
   "cell_type": "code",
   "execution_count": 1,
   "metadata": {},
   "outputs": [],
   "source": [
    "import os\n",
    "os.chdir(os.getcwd()[:-6])"
   ]
  },
  {
   "cell_type": "code",
   "execution_count": 2,
   "metadata": {},
   "outputs": [],
   "source": [
    "from float.data import DataLoader\n",
    "from float.prediction.skmultiflow import SkmultiflowClassifier\n",
    "from float.prediction.evaluation import PredictionEvaluator\n",
    "from float.pipeline import PrequentialPipeline\n",
    "from skmultiflow.trees import HoeffdingTreeClassifier\n",
    "from sklearn.metrics import zero_one_loss\n",
    "from float.visualization import plot\n",
    "import matplotlib.pyplot as plt"
   ]
  },
  {
   "cell_type": "code",
   "execution_count": null,
   "metadata": {},
   "outputs": [
    {
     "name": "stdout",
     "output_type": "stream",
     "text": [
      "Pretrain the predictor with 100 observation(s).\n",
      "[=============       ] 68%"
     ]
    }
   ],
   "source": [
    "data_loader = DataLoader(path='float/data/datasets/spambase.csv', target_col=-1)\n",
    "\n",
    "predictor = SkmultiflowClassifier(HoeffdingTreeClassifier(), data_loader.stream.target_values, reset_after_drift=True)\n",
    "pred_evaluator = PredictionEvaluator([zero_one_loss], decay_rate=0.1, window_size=10)\n",
    "\n",
    "prequential_pipeline = prequential_pipeline = PrequentialPipeline(data_loader=data_loader,\n",
    "                                                                  predictor=predictor,\n",
    "                                                                  prediction_evaluator=pred_evaluator,\n",
    "                                                                  n_max=data_loader.stream.n_samples)\n",
    "prequential_pipeline.run()"
   ]
  },
  {
   "cell_type": "code",
   "execution_count": null,
   "metadata": {},
   "outputs": [],
   "source": [
    "plot(measures=[pred_evaluator.result['zero_one_loss']['measures']],\n",
    "     labels=['Hoeffding Tree'],\n",
    "     measure_name='Zero-One Loss',\n",
    "     measure_type='prediction',\n",
    "     smooth_curve=[True])\n",
    "plt.show()"
   ]
  }
 ],
 "metadata": {
  "kernelspec": {
   "display_name": "Python 3 (ipykernel)",
   "language": "python",
   "name": "python3"
  },
  "language_info": {
   "codemirror_mode": {
    "name": "ipython",
    "version": 3
   },
   "file_extension": ".py",
   "mimetype": "text/x-python",
   "name": "python",
   "nbconvert_exporter": "python",
   "pygments_lexer": "ipython3",
   "version": "3.9.7"
  }
 },
 "nbformat": 4,
 "nbformat_minor": 4
}